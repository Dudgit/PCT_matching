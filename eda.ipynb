{
 "cells": [
  {
   "cell_type": "code",
   "execution_count": 1,
   "metadata": {},
   "outputs": [
    {
     "name": "stderr",
     "output_type": "stream",
     "text": [
      "2025-04-02 21:43:52.143164: I tensorflow/stream_executor/platform/default/dso_loader.cc:49] Successfully opened dynamic library libcudart.so.10.1\n"
     ]
    }
   ],
   "source": [
    "import torch\n",
    "from omegaconf import OmegaConf\n",
    "from data import pctDataset\n",
    "from model import DistModel\n",
    "from model import Trainer\n",
    "from torch.utils.tensorboard import SummaryWriter"
   ]
  },
  {
   "cell_type": "code",
   "execution_count": 2,
   "metadata": {},
   "outputs": [],
   "source": [
    "conf = OmegaConf.load(\"config.yaml\")\n",
    "conf.ValLoaderParams = conf.LoaderParams\n",
    "conf.ValLoaderParams.numWPTS = 2000\n",
    "conf.ModelParams.particleNumber = conf.LoaderParams.ParticleNumber\n",
    "conf.ModelParams.inDims = conf.LoaderParams.dims\n",
    "conf.deviceNum = 2\n",
    "\n",
    "ROOT_TO_DATA = '/home/bdudas/PCT_tracking/data'"
   ]
  },
  {
   "cell_type": "code",
   "execution_count": 3,
   "metadata": {},
   "outputs": [],
   "source": [
    "trainDataset = pctDataset(ROOT_TO_DATA +\"/train\",**conf.LoaderParams)\n",
    "trainLoader = torch.utils.data.DataLoader(trainDataset,batch_size=conf.TrainingParams.batch_size,shuffle=True)\n",
    "valDataset = pctDataset(ROOT_TO_DATA +\"/test\",**conf.ValLoaderParams)\n",
    "valLoader = torch.utils.data.DataLoader(valDataset,batch_size=conf.TrainingParams.batch_size)"
   ]
  },
  {
   "cell_type": "code",
   "execution_count": 4,
   "metadata": {},
   "outputs": [
    {
     "data": {
      "text/plain": [
       "torch.Size([256, 100, 41, 3])"
      ]
     },
     "execution_count": 4,
     "metadata": {},
     "output_type": "execute_result"
    }
   ],
   "source": [
    "batch = next(iter(trainLoader))\n",
    "batch.shape"
   ]
  },
  {
   "cell_type": "code",
   "execution_count": 5,
   "metadata": {},
   "outputs": [],
   "source": [
    "device = torch.device(f'cuda:{conf.deviceNum}' if torch.cuda.is_available() else 'cpu')\n",
    "myModel = DistModel(**conf.ModelParams).to(device)\n",
    "#myModel = torch.compile(myModel)"
   ]
  },
  {
   "cell_type": "code",
   "execution_count": 6,
   "metadata": {},
   "outputs": [
    {
     "data": {
      "text/plain": [
       "tensor([[[0.0100, 0.0100, 0.0100,  ..., 0.0100, 0.0100, 0.0100],\n",
       "         [0.0100, 0.0100, 0.0100,  ..., 0.0100, 0.0100, 0.0100],\n",
       "         [0.0100, 0.0100, 0.0100,  ..., 0.0100, 0.0100, 0.0100],\n",
       "         ...,\n",
       "         [0.0100, 0.0100, 0.0100,  ..., 0.0100, 0.0100, 0.0100],\n",
       "         [0.0100, 0.0100, 0.0100,  ..., 0.0100, 0.0100, 0.0100],\n",
       "         [0.0100, 0.0100, 0.0100,  ..., 0.0100, 0.0100, 0.0100]],\n",
       "\n",
       "        [[0.0100, 0.0100, 0.0100,  ..., 0.0100, 0.0100, 0.0100],\n",
       "         [0.0100, 0.0100, 0.0100,  ..., 0.0100, 0.0100, 0.0100],\n",
       "         [0.0100, 0.0100, 0.0100,  ..., 0.0100, 0.0100, 0.0100],\n",
       "         ...,\n",
       "         [0.0100, 0.0100, 0.0100,  ..., 0.0100, 0.0100, 0.0100],\n",
       "         [0.0100, 0.0099, 0.0099,  ..., 0.0101, 0.0101, 0.0100],\n",
       "         [0.0100, 0.0101, 0.0101,  ..., 0.0099, 0.0099, 0.0100]],\n",
       "\n",
       "        [[0.0100, 0.0100, 0.0100,  ..., 0.0100, 0.0100, 0.0100],\n",
       "         [0.0100, 0.0100, 0.0100,  ..., 0.0100, 0.0100, 0.0100],\n",
       "         [0.0100, 0.0100, 0.0100,  ..., 0.0100, 0.0100, 0.0100],\n",
       "         ...,\n",
       "         [0.0100, 0.0100, 0.0100,  ..., 0.0100, 0.0100, 0.0100],\n",
       "         [0.0100, 0.0100, 0.0100,  ..., 0.0100, 0.0100, 0.0100],\n",
       "         [0.0100, 0.0100, 0.0100,  ..., 0.0100, 0.0100, 0.0100]],\n",
       "\n",
       "        ...,\n",
       "\n",
       "        [[0.0100, 0.0100, 0.0100,  ..., 0.0100, 0.0100, 0.0100],\n",
       "         [0.0100, 0.0100, 0.0100,  ..., 0.0100, 0.0100, 0.0100],\n",
       "         [0.0100, 0.0100, 0.0100,  ..., 0.0100, 0.0100, 0.0100],\n",
       "         ...,\n",
       "         [0.0100, 0.0101, 0.0101,  ..., 0.0099, 0.0099, 0.0100],\n",
       "         [0.0100, 0.0100, 0.0100,  ..., 0.0100, 0.0100, 0.0100],\n",
       "         [0.0100, 0.0100, 0.0100,  ..., 0.0100, 0.0100, 0.0100]],\n",
       "\n",
       "        [[0.0100, 0.0100, 0.0100,  ..., 0.0100, 0.0100, 0.0100],\n",
       "         [0.0100, 0.0100, 0.0100,  ..., 0.0100, 0.0100, 0.0100],\n",
       "         [0.0100, 0.0100, 0.0100,  ..., 0.0100, 0.0100, 0.0100],\n",
       "         ...,\n",
       "         [0.0100, 0.0100, 0.0100,  ..., 0.0100, 0.0100, 0.0100],\n",
       "         [0.0100, 0.0100, 0.0100,  ..., 0.0100, 0.0100, 0.0100],\n",
       "         [0.0100, 0.0100, 0.0100,  ..., 0.0100, 0.0100, 0.0100]],\n",
       "\n",
       "        [[0.0100, 0.0101, 0.0101,  ..., 0.0099, 0.0099, 0.0100],\n",
       "         [0.0100, 0.0100, 0.0100,  ..., 0.0100, 0.0100, 0.0100],\n",
       "         [0.0100, 0.0100, 0.0100,  ..., 0.0100, 0.0100, 0.0100],\n",
       "         ...,\n",
       "         [0.0100, 0.0100, 0.0100,  ..., 0.0100, 0.0100, 0.0100],\n",
       "         [0.0100, 0.0100, 0.0100,  ..., 0.0100, 0.0100, 0.0100],\n",
       "         [0.0100, 0.0100, 0.0100,  ..., 0.0100, 0.0100, 0.0100]]],\n",
       "       device='cuda:2', grad_fn=<SoftmaxBackward0>)"
      ]
     },
     "execution_count": 6,
     "metadata": {},
     "output_type": "execute_result"
    }
   ],
   "source": [
    "myModel(batch[:,:,0].to(device),batch[:,:,0].to(device))"
   ]
  },
  {
   "cell_type": "code",
   "execution_count": 7,
   "metadata": {},
   "outputs": [],
   "source": [
    "myTrainer = Trainer(targetLayer=conf.TrainingParams.targetLayer,device=device)"
   ]
  },
  {
   "cell_type": "code",
   "execution_count": 8,
   "metadata": {},
   "outputs": [],
   "source": [
    "conf.comment = ''"
   ]
  },
  {
   "cell_type": "code",
   "execution_count": 9,
   "metadata": {},
   "outputs": [],
   "source": [
    "writer = SummaryWriter(comment= \"_\"+conf.comment)"
   ]
  },
  {
   "cell_type": "code",
   "execution_count": 10,
   "metadata": {},
   "outputs": [],
   "source": [
    "with open(f'{writer.log_dir}/config.yaml', 'w') as f:\n",
    "    OmegaConf.save(conf, f)"
   ]
  },
  {
   "cell_type": "code",
   "execution_count": 11,
   "metadata": {},
   "outputs": [
    {
     "data": {
      "text/plain": [
       "tensor([[[0.0100, 0.0100, 0.0100,  ..., 0.0100, 0.0100, 0.0100],\n",
       "         [0.0100, 0.0100, 0.0100,  ..., 0.0100, 0.0100, 0.0100],\n",
       "         [0.0100, 0.0100, 0.0100,  ..., 0.0100, 0.0100, 0.0100],\n",
       "         ...,\n",
       "         [0.0100, 0.0100, 0.0100,  ..., 0.0100, 0.0100, 0.0100],\n",
       "         [0.0100, 0.0100, 0.0100,  ..., 0.0100, 0.0100, 0.0100],\n",
       "         [0.0100, 0.0100, 0.0100,  ..., 0.0100, 0.0100, 0.0100]],\n",
       "\n",
       "        [[0.0100, 0.0100, 0.0100,  ..., 0.0100, 0.0100, 0.0100],\n",
       "         [0.0100, 0.0100, 0.0100,  ..., 0.0101, 0.0100, 0.0100],\n",
       "         [0.0100, 0.0100, 0.0100,  ..., 0.0100, 0.0100, 0.0100],\n",
       "         ...,\n",
       "         [0.0100, 0.0100, 0.0100,  ..., 0.0100, 0.0100, 0.0100],\n",
       "         [0.0100, 0.0100, 0.0100,  ..., 0.0100, 0.0100, 0.0100],\n",
       "         [0.0100, 0.0100, 0.0100,  ..., 0.0100, 0.0100, 0.0100]],\n",
       "\n",
       "        [[0.0100, 0.0100, 0.0100,  ..., 0.0100, 0.0100, 0.0100],\n",
       "         [0.0100, 0.0100, 0.0100,  ..., 0.0100, 0.0100, 0.0100],\n",
       "         [0.0100, 0.0100, 0.0100,  ..., 0.0100, 0.0100, 0.0100],\n",
       "         ...,\n",
       "         [0.0100, 0.0100, 0.0100,  ..., 0.0100, 0.0100, 0.0100],\n",
       "         [0.0100, 0.0100, 0.0100,  ..., 0.0100, 0.0100, 0.0100],\n",
       "         [0.0100, 0.0100, 0.0100,  ..., 0.0100, 0.0100, 0.0100]],\n",
       "\n",
       "        ...,\n",
       "\n",
       "        [[0.0100, 0.0100, 0.0100,  ..., 0.0100, 0.0100, 0.0100],\n",
       "         [0.0100, 0.0100, 0.0100,  ..., 0.0100, 0.0100, 0.0100],\n",
       "         [0.0100, 0.0100, 0.0100,  ..., 0.0100, 0.0100, 0.0100],\n",
       "         ...,\n",
       "         [0.0100, 0.0100, 0.0100,  ..., 0.0100, 0.0100, 0.0100],\n",
       "         [0.0100, 0.0100, 0.0100,  ..., 0.0100, 0.0100, 0.0100],\n",
       "         [0.0100, 0.0100, 0.0100,  ..., 0.0100, 0.0100, 0.0100]],\n",
       "\n",
       "        [[0.0100, 0.0100, 0.0100,  ..., 0.0100, 0.0100, 0.0100],\n",
       "         [0.0100, 0.0100, 0.0100,  ..., 0.0100, 0.0100, 0.0100],\n",
       "         [0.0100, 0.0100, 0.0100,  ..., 0.0100, 0.0100, 0.0100],\n",
       "         ...,\n",
       "         [0.0100, 0.0101, 0.0100,  ..., 0.0099, 0.0100, 0.0100],\n",
       "         [0.0100, 0.0100, 0.0100,  ..., 0.0100, 0.0100, 0.0100],\n",
       "         [0.0100, 0.0100, 0.0100,  ..., 0.0100, 0.0100, 0.0100]],\n",
       "\n",
       "        [[0.0100, 0.0100, 0.0100,  ..., 0.0100, 0.0100, 0.0100],\n",
       "         [0.0100, 0.0100, 0.0100,  ..., 0.0100, 0.0100, 0.0100],\n",
       "         [0.0100, 0.0100, 0.0100,  ..., 0.0100, 0.0100, 0.0100],\n",
       "         ...,\n",
       "         [0.0100, 0.0100, 0.0100,  ..., 0.0100, 0.0100, 0.0100],\n",
       "         [0.0100, 0.0100, 0.0100,  ..., 0.0100, 0.0100, 0.0100],\n",
       "         [0.0100, 0.0100, 0.0100,  ..., 0.0100, 0.0100, 0.0100]]],\n",
       "       device='cuda:2', grad_fn=<SoftmaxBackward0>)"
      ]
     },
     "execution_count": 11,
     "metadata": {},
     "output_type": "execute_result"
    }
   ],
   "source": [
    "tmp = next(iter(trainLoader))\n",
    "myModel(tmp[:,:,0].to(device),tmp[:,:,0].to(device))"
   ]
  },
  {
   "cell_type": "code",
   "execution_count": 12,
   "metadata": {},
   "outputs": [
    {
     "ename": "TypeError",
     "evalue": "'module' object is not callable",
     "output_type": "error",
     "traceback": [
      "\u001b[0;31m---------------------------------------------------------------------------\u001b[0m",
      "\u001b[0;31mTypeError\u001b[0m                                 Traceback (most recent call last)",
      "Input \u001b[0;32mIn [12]\u001b[0m, in \u001b[0;36m<cell line: 1>\u001b[0;34m()\u001b[0m\n\u001b[0;32m----> 1\u001b[0m \u001b[43mmyTrainer\u001b[49m\u001b[38;5;241;43m.\u001b[39;49m\u001b[43mtrain\u001b[49m\u001b[43m(\u001b[49m\u001b[43mmodel\u001b[49m\u001b[43m \u001b[49m\u001b[38;5;241;43m=\u001b[39;49m\u001b[43m \u001b[49m\u001b[43mmyModel\u001b[49m\u001b[43m,\u001b[49m\u001b[43m \u001b[49m\u001b[43mloader\u001b[49m\u001b[43m \u001b[49m\u001b[38;5;241;43m=\u001b[39;49m\u001b[43m \u001b[49m\u001b[43mtrainLoader\u001b[49m\u001b[43m,\u001b[49m\u001b[43mnumEpochs\u001b[49m\u001b[38;5;241;43m=\u001b[39;49m\u001b[38;5;241;43m1\u001b[39;49m\u001b[38;5;66;43;03m#conf.TrainingParams.epochs\u001b[39;49;00m\n\u001b[1;32m      2\u001b[0m \u001b[43m                \u001b[49m\u001b[43m,\u001b[49m\u001b[43mvalLoader\u001b[49m\u001b[43m \u001b[49m\u001b[38;5;241;43m=\u001b[39;49m\u001b[43m \u001b[49m\u001b[43mvalLoader\u001b[49m\u001b[43m,\u001b[49m\u001b[43mwriter\u001b[49m\u001b[38;5;241;43m=\u001b[39;49m\u001b[43mwriter\u001b[49m\u001b[43m,\u001b[49m\u001b[43moptimizer\u001b[49m\u001b[38;5;241;43m=\u001b[39;49m\u001b[43mtorch\u001b[49m\u001b[38;5;241;43m.\u001b[39;49m\u001b[43moptim\u001b[49m\u001b[38;5;241;43m.\u001b[39;49m\u001b[43mAdam\u001b[49m\u001b[43m,\u001b[49m\u001b[43mcriterion\u001b[49m\u001b[38;5;241;43m=\u001b[39;49m\u001b[43mtorch\u001b[49m\u001b[38;5;241;43m.\u001b[39;49m\u001b[43mnn\u001b[49m\u001b[38;5;241;43m.\u001b[39;49m\u001b[43mCrossEntropyLoss\u001b[49m\u001b[43m)\u001b[49m\n",
      "File \u001b[0;32m~/PCT_matching/model.py:104\u001b[0m, in \u001b[0;36mTrainer.train\u001b[0;34m(self, model, loader, numEpochs, valLoader, writer, optimizer, criterion)\u001b[0m\n\u001b[1;32m    101\u001b[0m epochLoss,epochAcc,epochAcc2 \u001b[38;5;241m=\u001b[39m \u001b[38;5;241m0.\u001b[39m,\u001b[38;5;241m0.\u001b[39m,\u001b[38;5;241m0.\u001b[39m\n\u001b[1;32m    102\u001b[0m valepochLoss, valepochacc,valepochacc2 \u001b[38;5;241m=\u001b[39m \u001b[38;5;241m0.\u001b[39m,\u001b[38;5;241m0.\u001b[39m,\u001b[38;5;241m0.\u001b[39m\n\u001b[0;32m--> 104\u001b[0m pbar \u001b[38;5;241m=\u001b[39m \u001b[43mtqdm\u001b[49m\u001b[43m(\u001b[49m\u001b[43mloader\u001b[49m\u001b[43m,\u001b[49m\u001b[43mdesc\u001b[49m\u001b[38;5;241;43m=\u001b[39;49m\u001b[38;5;124;43mf\u001b[39;49m\u001b[38;5;124;43m'\u001b[39;49m\u001b[38;5;124;43mEpoch \u001b[39;49m\u001b[38;5;132;43;01m{\u001b[39;49;00m\u001b[43mepoch\u001b[49m\u001b[38;5;132;43;01m}\u001b[39;49;00m\u001b[38;5;124;43m/\u001b[39;49m\u001b[38;5;132;43;01m{\u001b[39;49;00m\u001b[43mnumEpochs\u001b[49m\u001b[38;5;132;43;01m}\u001b[39;49;00m\u001b[38;5;124;43m'\u001b[39;49m\u001b[43m,\u001b[49m\u001b[43mcolour\u001b[49m\u001b[38;5;241;43m=\u001b[39;49m\u001b[38;5;124;43m'\u001b[39;49m\u001b[38;5;124;43mgreen\u001b[39;49m\u001b[38;5;124;43m'\u001b[39;49m\u001b[43m)\u001b[49m\n\u001b[1;32m    105\u001b[0m model\u001b[38;5;241m.\u001b[39mtrain()\n\u001b[1;32m    106\u001b[0m \u001b[38;5;28;01mfor\u001b[39;00m batch \u001b[38;5;129;01min\u001b[39;00m pbar:\n",
      "\u001b[0;31mTypeError\u001b[0m: 'module' object is not callable"
     ]
    }
   ],
   "source": [
    "myTrainer.train(model = myModel, loader = trainLoader,numEpochs=1#conf.TrainingParams.epochs\n",
    "                ,valLoader = valLoader,writer=writer,optimizer=torch.optim.Adam,criterion=torch.nn.CrossEntropyLoss)"
   ]
  }
 ],
 "metadata": {
  "kernelspec": {
   "display_name": "pct",
   "language": "python",
   "name": "python3"
  },
  "language_info": {
   "codemirror_mode": {
    "name": "ipython",
    "version": 3
   },
   "file_extension": ".py",
   "mimetype": "text/x-python",
   "name": "python",
   "nbconvert_exporter": "python",
   "pygments_lexer": "ipython3",
   "version": "3.9.13"
  }
 },
 "nbformat": 4,
 "nbformat_minor": 2
}
